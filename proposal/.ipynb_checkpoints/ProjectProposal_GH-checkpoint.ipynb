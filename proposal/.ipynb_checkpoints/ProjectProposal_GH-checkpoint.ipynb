{
 "cells": [
  {
   "cell_type": "markdown",
   "metadata": {},
   "source": [
    "# COGS 108 - Project Proposal"
   ]
  },
  {
   "cell_type": "markdown",
   "metadata": {},
   "source": [
    "# Names & GitHub ID\n",
    "\n",
    "- Name: Jota Yamaguchi\n",
    "- GitHub Username: Jyamaguc"
   ]
  },
  {
   "cell_type": "markdown",
   "metadata": {},
   "source": [
    "# Research Question"
   ]
  },
  {
   "cell_type": "markdown",
   "metadata": {},
   "source": [
    "Do some areas of San Diego need to increase safety measures at public parks to lower the risk of injuries?"
   ]
  },
  {
   "cell_type": "markdown",
   "metadata": {},
   "source": [
    "## Background and Prior Work"
   ]
  },
  {
   "cell_type": "markdown",
   "metadata": {},
   "source": [
    "With Covid-19 pandemic going on, our whole country has added new measures to prevent the spread of the deadly virus. This comes in many forms, such as requiring masks, the six-feet rule, and installing blockades where people may come into close contact. Public parks have gotten hit heavily with these regualtion, some even shutting down complete due to the amount of people that would risk exposure to go to them. But these measures have been implemented to ensure the safety of the people of the city. With that in mind, there may be a need for an overall increase in saftey measures, not only from the virus, but injuries as well. \n",
    "\n",
    "The biggest coorelation between parks in certain areas and the number of injuries would be the average household income of that neighborhood. It would make sense to think that high-income neighborhoods will have better parks, which lead to better/updated safety measures compared to that of a low-income neighborhood(1). Therefore, I would like to determine with my research if the city of San Diego has these safety discrepancies based of neighborhood income. To do so, I will need the average house hold income of each city within the San Diego County(2). From there, I will gather data regarding the number of data within the past year( may change based on data I can get) of that city, and determine if there is a coorlation between average household income, and the number of injuries that occur at the park. \n",
    "\n",
    "\n",
    "References (include links):\n",
    "- 1)https://www.cdc.gov/homeandrecreationalsafety/playground-injuries/playgroundinjuries-factsheet.htm\n",
    "- 2)https://data.sandiegocounty.gov/Demographics/2016-San-Diego-County-Demographic-Profiles-Median-/mh9x-cdz6"
   ]
  },
  {
   "cell_type": "markdown",
   "metadata": {},
   "source": [
    "# Hypothesis\n"
   ]
  },
  {
   "cell_type": "markdown",
   "metadata": {},
   "source": [
    "My hypothesis is that richer areas of San Diego will have lower rate of injuries that happen at public parks compared to a poor area. This could be because wealthier areas have more resources and money, which they can use to immprove their community, while poor areas do not have the same leasure. "
   ]
  },
  {
   "cell_type": "markdown",
   "metadata": {},
   "source": [
    "# Data"
   ]
  },
  {
   "cell_type": "markdown",
   "metadata": {},
   "source": [
    "I plan on having 3 datasets\n",
    "\n",
    "Dataset_1 = Average Household Income.\n",
    "Listed: From richest city to poorest city.\n",
    "one observation (average household income) from each city: total of 18.\n",
    "\n",
    "Dataset_2 = Rate of Injuries at Public Parks per City.\n",
    "Listed: From city with lowest rate of injuries to the city with highest rate of injury. \n",
    "(listed this way to hypothetically show coorelation between average income and injury rate).\n",
    "One observation(rate of injury at public parks) per city: 18 total. \n",
    "(number of observations may change if dataset has more detail, such as number of parks in each city.).\n",
    "\n",
    "Dataset_3 = Rate of Injuries at Public Parks per Average Household Income.\n",
    "Listed: x-axis would be the name of city, along with average household income. Will be listed in order of lowest rate of injury to highest. y-axis will hold the rate of injuries that happen at public parks. \n",
    "Most likely be a Bar Chart\n"
   ]
  },
  {
   "cell_type": "markdown",
   "metadata": {},
   "source": [
    "# Ethics & Privacy"
   ]
  },
  {
   "cell_type": "markdown",
   "metadata": {},
   "source": [
    "To collect the most recent Dataset average household income of the cities in San Diego County, I will have to get permission from the owner of that dataset via https://data.sandiegocounty.gov/Demographics/2016-San-Diego-County-Demographic-Profiles-Median-/mh9x-cdz6 . The minor issue with privacy regarding this dataset is that it comes with data that will not be nessasary for this research question. The average number of people that live in a household will not be analyzed, and therefore, will not be considered when conducting my research. Another privacy issue that I may run into is regarding the injury rates of the citites. When it comes health, most of it is very private and is usually kept between the patient and the doctor. In this case, however, in order to aquire the data required to conduct this research, I will need data from patients that are willing to share that information with the general public ( even if its anonymous). This could lead to certain errors in my data, as some people may not share their data. In this case, I believe that I will have to take the data that I have been offered, and conduct my analysis based off what is given. But in the case that the data does have error due to the lack of reported injuries, it will be safe to say that a significant difference will be nessasary in order to warrant a change in regualtion for public parks in certain cities."
   ]
  },
  {
   "cell_type": "code",
   "execution_count": null,
   "metadata": {},
   "outputs": [],
   "source": []
  }
 ],
 "metadata": {
  "kernelspec": {
   "display_name": "Python 3",
   "language": "python",
   "name": "python3"
  },
  "language_info": {
   "codemirror_mode": {
    "name": "ipython",
    "version": 3
   },
   "file_extension": ".py",
   "mimetype": "text/x-python",
   "name": "python",
   "nbconvert_exporter": "python",
   "pygments_lexer": "ipython3",
   "version": "3.7.6"
  }
 },
 "nbformat": 4,
 "nbformat_minor": 2
}
